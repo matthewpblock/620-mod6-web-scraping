{
 "cells": [
  {
   "cell_type": "markdown",
   "metadata": {},
   "source": [
    "# Fetching Content from the Web\n",
    "\n",
    "### Student Name: Matthew Block\n",
    "[Web Scraping Repository](https://github.com/matthewpblock/620-mod6-web-scraping/)  \n",
    "\n",
    "## When you have no API... That's annoying!\n",
    "\n",
    "Sometimes we need to try to access data on a webpage that does not have a helpful API that bundles and returns our data in a usable manner.  When that happens, we are left with no choice but to resort to web scraping, that is downloading the actual webpage (or parts of the webpage) and manipulating the text or elements of the HTML to obtain the information we want.\n",
    "\n",
    "## Tools to install:\n",
    "\n",
    "Use either `conda` or `pip` to install the following packages (e.g. `pip install beautifulsoup4`) depending on your environment:\n",
    "\n",
    "* `beautifulsoup4`\n",
    "* `html5lib` (optional parser - can use the built-in 'html.parser' instead)\n",
    "\n",
    "We will deal with each of these tools in turn.  BS4 is a package that allows you to fully read and do horrible horrible things to the DOM of a webpage (it's an XML parser that builds a parse tree for you to play with).  Boilerpipe is a python wrapper to a popular java library that can streamline some of the process of extracting parts of a webpage.  Feedparser lets you get RSS and Atom feeds (remember those?)\n",
    "\n",
    "Many examples are motivated from the content at https://github.com/mikhailklassen/Mining-the-Social-Web-3rd-Edition/blob/master/notebooks/Chapter%206%20-%20Mining%20Web%20Pages.ipynb\n",
    "\n",
    "## Getting page text with `requests` and `BeautifulSoup4`\n",
    "\n",
    "A majority of the web does not follow a specific standard (RSS/ATOM Feeds, etc), or the data we want is in a particularly odd format.  For this we need more flexible tools to allow us to obtain a full web page and extract meaning from it.  For this we will use the `requests` module and `beautifulsoup` to pull our information."
   ]
  },
  {
   "cell_type": "code",
   "execution_count": 1,
   "metadata": {},
   "outputs": [
    {
     "name": "stdout",
     "output_type": "stream",
     "text": [
      "Package                 Version\n",
      "----------------------- -----------\n",
      "annotated-types         0.7.0\n",
      "asttokens               3.0.0\n",
      "beautifulsoup4          4.13.4\n",
      "blis                    1.3.0\n",
      "catalogue               2.0.10\n",
      "certifi                 2025.7.14\n",
      "charset-normalizer      3.4.2\n",
      "click                   8.2.1\n",
      "cloudpathlib            0.21.1\n",
      "colorama                0.4.6\n",
      "comm                    0.2.2\n",
      "confection              0.1.5\n",
      "contourpy               1.3.2\n",
      "cycler                  0.12.1\n",
      "cymem                   2.0.11\n",
      "debugpy                 1.8.15\n",
      "decorator               5.2.1\n",
      "en_core_web_sm          3.8.0\n",
      "executing               2.2.0\n",
      "fonttools               4.59.0\n",
      "html5lib                1.1\n",
      "idna                    3.10\n",
      "ipykernel               6.29.5\n",
      "ipython                 9.4.0\n",
      "ipython_pygments_lexers 1.1.1\n",
      "jedi                    0.19.2\n",
      "Jinja2                  3.1.6\n",
      "joblib                  1.5.1\n",
      "jupyter_client          8.6.3\n",
      "jupyter_core            5.8.1\n",
      "kiwisolver              1.4.8\n",
      "langcodes               3.5.0\n",
      "language_data           1.3.0\n",
      "marisa-trie             1.2.1\n",
      "markdown-it-py          3.0.0\n",
      "MarkupSafe              3.0.2\n",
      "matplotlib              3.10.3\n",
      "matplotlib-inline       0.1.7\n",
      "mdurl                   0.1.2\n",
      "murmurhash              1.0.13\n",
      "nest-asyncio            1.6.0\n",
      "nltk                    3.9.1\n",
      "numpy                   2.3.1\n",
      "packaging               25.0\n",
      "parso                   0.8.4\n",
      "pillow                  11.3.0\n",
      "pip                     25.1.1\n",
      "platformdirs            4.3.8\n",
      "preshed                 3.0.10\n",
      "prompt_toolkit          3.0.51\n",
      "psutil                  7.0.0\n",
      "pure_eval               0.2.3\n",
      "pydantic                2.11.7\n",
      "pydantic_core           2.33.2\n",
      "Pygments                2.19.2\n",
      "pyparsing               3.2.3\n",
      "python-dateutil         2.9.0.post0\n",
      "pywin32                 311\n",
      "pyzmq                   27.0.0\n",
      "regex                   2024.11.6\n",
      "requests                2.32.4\n",
      "rich                    14.0.0\n",
      "setuptools              80.9.0\n",
      "shellingham             1.5.4\n",
      "six                     1.17.0\n",
      "smart_open              7.3.0.post1\n",
      "soupsieve               2.7\n",
      "spacy                   3.8.7\n",
      "spacy-legacy            3.0.12\n",
      "spacy-loggers           1.0.5\n",
      "spacytextblob           5.0.0\n",
      "srsly                   2.5.1\n",
      "stack-data              0.6.3\n",
      "textblob                0.19.0\n",
      "thinc                   8.3.6\n",
      "tornado                 6.5.1\n",
      "tqdm                    4.67.1\n",
      "traitlets               5.14.3\n",
      "typer                   0.16.0\n",
      "typing_extensions       4.14.1\n",
      "typing-inspection       0.4.1\n",
      "urllib3                 2.5.0\n",
      "wasabi                  1.1.3\n",
      "wcwidth                 0.2.13\n",
      "weasel                  0.4.1\n",
      "webencodings            0.5.1\n",
      "wheel                   0.45.1\n",
      "wrapt                   1.17.2\n",
      "All prereqs installed.\n"
     ]
    }
   ],
   "source": [
    "# Create and activate a Python virtual environment. \n",
    "# Before starting the project, try all these imports FIRST\n",
    "# Address any errors you get running this code cell \n",
    "# by installing the necessary packages into your active Python environment.\n",
    "# Try to resolve issues using your materials and the web.\n",
    "# If that doesn't work, ask for help in the discussion forums.\n",
    "# You can't complete the exercises until you import these - start early! \n",
    "# We also import pickle and Counter (included in the Python Standard Library).\n",
    "\n",
    "from collections import Counter\n",
    "import pickle\n",
    "import requests\n",
    "import spacy\n",
    "from bs4 import BeautifulSoup\n",
    "import matplotlib.pyplot as plt\n",
    "\n",
    "!pip list\n",
    "\n",
    "print('All prereqs installed.')"
   ]
  },
  {
   "cell_type": "code",
   "execution_count": 2,
   "metadata": {},
   "outputs": [
    {
     "name": "stdout",
     "output_type": "stream",
     "text": [
      "200\n",
      "text/html; charset=UTF-8\n"
     ]
    }
   ],
   "source": [
    "import requests\n",
    "\n",
    "response = requests.get('https://en.wikipedia.org/wiki/Data_mining')\n",
    "\n",
    "print(response.status_code)\n",
    "print(response.headers['content-type'])\n",
    "# Uncomment next line to print the full HTML text;  it's long so when done, recomment\n",
    "# print(response.text)\n"
   ]
  },
  {
   "cell_type": "markdown",
   "metadata": {},
   "source": [
    "Hooray... raw HTML.  This will clearly be a good day.  Let's... find a way to **not** deal with raw html encoded text:"
   ]
  },
  {
   "cell_type": "code",
   "execution_count": 3,
   "metadata": {},
   "outputs": [],
   "source": [
    "from bs4 import BeautifulSoup\n",
    "\n",
    "parser = 'html5lib'\n",
    "# parser = 'html.parser'\n",
    "\n",
    "soup = BeautifulSoup(response.text, parser)\n",
    "# Uncomment next lines to explore full page contents; it's long so when done, recomment\n",
    "# print(soup)\n",
    "# print(soup.prettify())\n"
   ]
  },
  {
   "cell_type": "markdown",
   "metadata": {},
   "source": [
    "From our soup we can extract information by finding tags, searching for ids, and in general treating the parse tree of the HTML as a parse tree.  `BeautifulSoup4` allows us to search for elements of our text"
   ]
  },
  {
   "cell_type": "code",
   "execution_count": 4,
   "metadata": {},
   "outputs": [
    {
     "name": "stdout",
     "output_type": "stream",
     "text": [
      "h1 header: <h1 class=\"firstHeading mw-first-heading\" id=\"firstHeading\"><span class=\"mw-page-title-main\">Data mining</span></h1>\n",
      "h1 text: Data mining\n"
     ]
    }
   ],
   "source": [
    "for header in soup.find_all('h1'):\n",
    "    print('h1 header:', header)\n",
    "    print('h1 text:', header.text)"
   ]
  },
  {
   "cell_type": "markdown",
   "metadata": {},
   "source": [
    "## Getting some workable material\n",
    "\n",
    "Let's start with an article and find learn some information about it.  Our first step should be to obtain our web page."
   ]
  },
  {
   "cell_type": "code",
   "execution_count": 5,
   "metadata": {},
   "outputs": [],
   "source": [
    "article_page = requests.get('http://web.archive.org/web/20210415020310/https://hackaday.com/2021/04/02/python-will-soon-support-switch-statements/')\n",
    "article_html = article_page.text\n",
    "\n",
    "# pickle works similar to json, but stores information in a binary format\n",
    "# json files are readable by humans, pickle files, not so much\n",
    "\n",
    "# BeautifulSoup objects don't pickle well, so it's appropriate and polite to web developers to cache the text of the web page, or just dump it to an html file you can read in later as a regular file\n",
    "import pickle\n",
    "with open('python-match.pkl', 'wb') as f:\n",
    "    pickle.dump(article_page.text, f)"
   ]
  },
  {
   "cell_type": "code",
   "execution_count": 6,
   "metadata": {},
   "outputs": [],
   "source": [
    "with open('python-match.pkl', 'rb') as f:\n",
    "    article_html = pickle.load(f)"
   ]
  },
  {
   "cell_type": "markdown",
   "metadata": {},
   "source": [
    "Our next step is to make our HTML page searchable/usable.  Parsing HTML by hand would be a waste of time, so let's ask BeautifulSoup to make us some delicious soup.\n",
    "\n",
    "Use either parser - how can you find the pros and cons of 'html5lib' or the built-in 'html.parser'? \n",
    "\n",
    "Where did we set the value of the parser variable used below?"
   ]
  },
  {
   "cell_type": "code",
   "execution_count": 7,
   "metadata": {},
   "outputs": [],
   "source": [
    "soup = BeautifulSoup(article_html, parser)"
   ]
  },
  {
   "cell_type": "markdown",
   "metadata": {},
   "source": [
    "At this point, we want to extract the article text from the page.  Luckily, we have the ability to investigate and inspect individual elements.  By using the inspector we can find that the article is contained in an `article` element; how convenient!  This might not be the case for every page.  One problem with web scraping is that you need to specialize your code for whatever "
   ]
  },
  {
   "cell_type": "code",
   "execution_count": 8,
   "metadata": {},
   "outputs": [
    {
     "name": "stdout",
     "output_type": "stream",
     "text": [
      "<article class=\"post-468658 post type-post status-publish format-standard has-post-thumbnail hentry category-featured category-news category-slider category-software-development tag-match tag-python tag-switch\" id=\"post-468658\" itemscope=\"\" itemtype=\"http://schema.org/Article\">\n",
      "    <header class=\"entry-header\">\n",
      "        <h1 class=\"entry-title\" itemprop=\"name\">Python Will Soon Support Switch Statements</h1>\n",
      "        <div class=\"entry-meta\">\n",
      "            <a class=\"comments-counts\" href=\"http://web.archive.org/web/20210415020310/https://hackaday.com/2021/04/02/python-will-soon-support-switch-statements/#comments\"><span class=\"icon-hackaday icon-hackaday-comment\"></span>\n",
      "                112 Comments            </a>\n",
      "            <ul class=\"meta-authors vcard author\">\n",
      "                <li>by:</li>\n",
      "                <span class=\"fn\"><a class=\"author url fn\" href=\"http://web.archive.org/web/20210415020310/https://hackaday.com/author/adamzeloof/\" rel=\"author\" title=\"Posts by Adam Zeloof\">Adam Zeloof</a></span>\n",
      "            </ul>\n",
      "        </div><!-- .entry-meta -->\n",
      "\n",
      "        <div class=\"entry-meta entry-meta-last\">\n",
      "            <span class=\"entry-date published updated\" content=\"April 2, 2021\" itemprop=\"datePublished\"><a href=\"http://web.archive.org/web/20210415020310/https://hackaday.com/2021/04/02/\" title=\"April 2, 2021 - 10:01 am\">April 2, 2021</a></span>\n",
      "            <ul class=\"share-post\">\n",
      "                <li><a href=\"http://web.archive.org/web/20210415020310/https://www.facebook.com/sharer/sharer.php?u=https%3A%2F%2Fhackaday.com%2F2021%2F04%2F02%2Fpython-will-soon-support-switch-statements%2F\" target=\"_blank\"><span class=\"icon-hackaday icon-hackaday-facebook\"></span></a></li>\n",
      "                <li><a href=\"http://web.archive.org/web/20210415020310/https://twitter.com/intent/tweet?text=Python+Will+Soon+Support+Switch+Statements via @hackaday&amp;url=https%3A%2F%2Fhackaday.com%2F2021%2F04%2F02%2Fpython-will-soon-support-switch-statements%2F\" target=\"_blank\"><span class=\"icon-hackaday icon-hackaday-twitter\"></span></a></li>\n",
      "            </ul>\n",
      "        </div><!-- .entry-meta -->\n",
      "\n",
      "        <div class=\"entry-featured-image\"><img alt=\"\" content=\"https://hackaday.com/wp-content/uploads/2017/04/python-ide-ask-hackaday-thumb.jpg?w=600&amp;h=600\" itemprop=\"image\" src=\"http://web.archive.org/web/20210415020310im_/https://hackaday.com/wp-content/uploads/2017/04/python-ide-ask-hackaday-featured1.jpg?w=800\"/></div>\n",
      "    </header><!-- .entry-header -->\n",
      "\n",
      "    <div class=\"entry-content\" itemprop=\"articleBody\">\n",
      "        <p>Rejoice! Gone are the long chains of <code>if</code>…<code>else</code> statements, because <code>switch</code> statements will soon be here — sort of. <a href=\"http://web.archive.org/web/20210415020310/https://www.python.org/dev/peps/pep-0622/\" target=\"_blank\">What the Python gods are actually giving us are <code>match</code> statements.</a> <code>match</code> statements are awfully similar to <code>switch</code> statements, but have a few really cool and unique features, which I’ll attempt to illustrate below.</p>\n",
      "<p><span id=\"more-468658\"></span></p>\n",
      "<h2>Flip The Switch</h2>\n",
      "<p>A <code>switch</code> statement is often used in place of an <code>if</code>…<code>else</code> ladder. Here’s a quick example of the same logic in C, first executed with an <code>if</code> statement, and then with a <code>switch</code> statement:</p>\n",
      "<p><img alt=\"\" class=\"aligncenter size-large wp-image-468666\" data-attachment-id=\"468666\" data-comments-opened=\"1\" data-image-description=\"\" data-image-meta='{\"aperture\":\"0\",\"credit\":\"\",\"camera\":\"\",\"caption\":\"\",\"created_timestamp\":\"0\",\"copyright\":\"\",\"focal_length\":\"0\",\"iso\":\"0\",\"shutter_speed\":\"0\",\"title\":\"\",\"orientation\":\"0\"}' data-image-title=\"code_example_1_updated\" data-large-file=\"http://web.archive.org/web/20210415020310/https://hackaday.com/wp-content/uploads/2021/03/code_example_1_updated.png?w=800\" data-medium-file=\"http://web.archive.org/web/20210415020310/https://hackaday.com/wp-content/uploads/2021/03/code_example_1_updated.png?w=400\" data-orig-file=\"http://web.archive.org/web/20210415020310/https://hackaday.com/wp-content/uploads/2021/03/code_example_1_updated.png\" data-orig-size=\"800,360\" data-permalink=\"http://web.archive.org/web/20210415020310/https://hackaday.com/2021/04/02/python-will-soon-support-switch-statements/code_example_1_updated/\" height=\"360\" loading=\"lazy\" sizes=\"(max-width: 800px) 100vw, 800px\" src=\"http://web.archive.org/web/20210415020310im_/https://hackaday.com/wp-content/uploads/2021/03/code_example_1_updated.png?w=800\" srcset=\"http://web.archive.org/web/20210415020310im_/https://hackaday.com/wp-content/uploads/2021/03/code_example_1_updated.png 800w, http://web.archive.org/web/20210415020310im_/https://hackaday.com/wp-content/uploads/2021/03/code_example_1_updated.png?resize=250,113 250w, http://web.archive.org/web/20210415020310im_/https://hackaday.com/wp-content/uploads/2021/03/code_example_1_updated.png?resize=400,180 400w\" width=\"800\"/></p>\n",
      "<p>Essentially, a <code>switch</code> statement takes a variable and tests it for equality against a number of different cases. If none of the cases match, then the <code>default</code> case is invoked. Notice in the example that each <code>case</code> is terminated by a <code>break</code>. This protects against more than one case matching (or allows for cascading), as the cases are checked in the order in which they are listed. Once a case is completed, <code>break</code> is called and the <code>switch</code> statement exits.</p>\n",
      "<h2>A Match Made In Heaven</h2>\n",
      "<p><img alt=\"\" class=\"size-large wp-image-468674 alignright\" data-attachment-id=\"468674\" data-comments-opened=\"1\" data-image-description=\"\" data-image-meta='{\"aperture\":\"0\",\"credit\":\"\",\"camera\":\"\",\"caption\":\"\",\"created_timestamp\":\"0\",\"copyright\":\"\",\"focal_length\":\"0\",\"iso\":\"0\",\"shutter_speed\":\"0\",\"title\":\"\",\"orientation\":\"0\"}' data-image-title=\"code_example_5\" data-large-file=\"http://web.archive.org/web/20210415020310/https://hackaday.com/wp-content/uploads/2021/03/code_example_5.png?w=410\" data-medium-file=\"http://web.archive.org/web/20210415020310/https://hackaday.com/wp-content/uploads/2021/03/code_example_5.png?w=400\" data-orig-file=\"http://web.archive.org/web/20210415020310/https://hackaday.com/wp-content/uploads/2021/03/code_example_5.png\" data-orig-size=\"410,250\" data-permalink=\"http://web.archive.org/web/20210415020310/https://hackaday.com/2021/04/02/python-will-soon-support-switch-statements/code_example_5/\" height=\"250\" loading=\"lazy\" sizes=\"(max-width: 410px) 100vw, 410px\" src=\"http://web.archive.org/web/20210415020310im_/https://hackaday.com/wp-content/uploads/2021/03/code_example_5.png?w=410\" srcset=\"http://web.archive.org/web/20210415020310im_/https://hackaday.com/wp-content/uploads/2021/03/code_example_5.png 410w, http://web.archive.org/web/20210415020310im_/https://hackaday.com/wp-content/uploads/2021/03/code_example_5.png?resize=250,152 250w, http://web.archive.org/web/20210415020310im_/https://hackaday.com/wp-content/uploads/2021/03/code_example_5.png?resize=400,244 400w\" width=\"410\"/></p>\n",
      "<p>You can think of <code>match</code> statements as “Switch 2.0”. Before we get into the nitty-gritty here, if all you want is <code>switch</code> in Python then you’re in luck, because they can be used in the same way. Here’s a similar example to what we looked at earlier, this time using <code>match</code> in Python.</p>\n",
      "<p>There are a few differences to note right off the bat. First, there are no <code>break</code> statements. The developers were concerned about confusion if a <code>break</code> statement were called inside a <code>match</code> statement inside a loop — what breaks then, the loop or the match? Here, the first case that is satisfied is executed, and the statement returns. You’ll also notice that rather than <code>default</code>, we have <code>case _</code>, which behaves in the same way.</p>\n",
      "<h2>The Power of Pattern Matching</h2>\n",
      "<p>So, we’ve got a <code>switch</code> statement with slightly different syntax, right? Not quite. The name <code>match</code> was used for a reason — what’s actually going on here is something called Pattern Matching. To illustrate what that is, let’s look at a more exciting example, right out of the feature proposal to add the keyword in question to Python:</p>\n",
      "<p><img alt=\"\" class=\"size-large wp-image-468670 aligncenter\" data-attachment-id=\"468670\" data-comments-opened=\"1\" data-image-description=\"\" data-image-meta='{\"aperture\":\"0\",\"credit\":\"\",\"camera\":\"\",\"caption\":\"\",\"created_timestamp\":\"0\",\"copyright\":\"\",\"focal_length\":\"0\",\"iso\":\"0\",\"shutter_speed\":\"0\",\"title\":\"\",\"orientation\":\"0\"}' data-image-title=\"code_example_2_updated\" data-large-file=\"http://web.archive.org/web/20210415020310/https://hackaday.com/wp-content/uploads/2021/03/code_example_2_updated.png?w=700\" data-medium-file=\"http://web.archive.org/web/20210415020310/https://hackaday.com/wp-content/uploads/2021/03/code_example_2_updated.png?w=400\" data-orig-file=\"http://web.archive.org/web/20210415020310/https://hackaday.com/wp-content/uploads/2021/03/code_example_2_updated.png\" data-orig-size=\"700,420\" data-permalink=\"http://web.archive.org/web/20210415020310/https://hackaday.com/2021/04/02/python-will-soon-support-switch-statements/code_example_2_updated/\" height=\"420\" loading=\"lazy\" sizes=\"(max-width: 700px) 100vw, 700px\" src=\"http://web.archive.org/web/20210415020310im_/https://hackaday.com/wp-content/uploads/2021/03/code_example_2_updated.png?w=700\" srcset=\"http://web.archive.org/web/20210415020310im_/https://hackaday.com/wp-content/uploads/2021/03/code_example_2_updated.png 700w, http://web.archive.org/web/20210415020310im_/https://hackaday.com/wp-content/uploads/2021/03/code_example_2_updated.png?resize=250,150 250w, http://web.archive.org/web/20210415020310im_/https://hackaday.com/wp-content/uploads/2021/03/code_example_2_updated.png?resize=400,240 400w\" width=\"700\"/></p>\n",
      "<p>Wow! We just took an object, checked its type, checked it’s shape, and instantiated a new object without any indexing, or even a <code>len()</code> call. It also works on any type, unlike the classic <code>switch</code> which only works on <a href=\"http://web.archive.org/web/20210415020310/https://www.cs.auckland.ac.nz/references/unix/digital/AQTLTBTE/DOCU_032.HTM\" target=\"_blank\">integral values</a>. In case this wasn’t cool enough for you, patterns can be combined. Again, from the feature proposal:</p>\n",
      "<p><img alt=\"\" class=\"aligncenter size-large wp-image-468671\" data-attachment-id=\"468671\" data-comments-opened=\"1\" data-image-description=\"\" data-image-meta='{\"aperture\":\"0\",\"credit\":\"\",\"camera\":\"\",\"caption\":\"\",\"created_timestamp\":\"0\",\"copyright\":\"\",\"focal_length\":\"0\",\"iso\":\"0\",\"shutter_speed\":\"0\",\"title\":\"\",\"orientation\":\"0\"}' data-image-title=\"code_example_3\" data-large-file=\"http://web.archive.org/web/20210415020310/https://hackaday.com/wp-content/uploads/2021/03/code_example_3.png?w=600\" data-medium-file=\"http://web.archive.org/web/20210415020310/https://hackaday.com/wp-content/uploads/2021/03/code_example_3.png?w=400\" data-orig-file=\"http://web.archive.org/web/20210415020310/https://hackaday.com/wp-content/uploads/2021/03/code_example_3.png\" data-orig-size=\"600,320\" data-permalink=\"http://web.archive.org/web/20210415020310/https://hackaday.com/2021/04/02/python-will-soon-support-switch-statements/code_example_3/\" height=\"320\" loading=\"lazy\" sizes=\"(max-width: 600px) 100vw, 600px\" src=\"http://web.archive.org/web/20210415020310im_/https://hackaday.com/wp-content/uploads/2021/03/code_example_3.png?w=600\" srcset=\"http://web.archive.org/web/20210415020310im_/https://hackaday.com/wp-content/uploads/2021/03/code_example_3.png 600w, http://web.archive.org/web/20210415020310im_/https://hackaday.com/wp-content/uploads/2021/03/code_example_3.png?resize=250,133 250w, http://web.archive.org/web/20210415020310im_/https://hackaday.com/wp-content/uploads/2021/03/code_example_3.png?resize=400,213 400w\" width=\"600\"/></p>\n",
      "<p>Okay, okay — one more example. This is where the <code>match</code> statement gets really powerful. Patterns themselves can include comparisons, known as guards. This lets you filter values within each <code>case</code> statement:</p>\n",
      "<p><img alt=\"\" class=\"aligncenter size-large wp-image-468672\" data-attachment-id=\"468672\" data-comments-opened=\"1\" data-image-description=\"\" data-image-meta='{\"aperture\":\"0\",\"credit\":\"\",\"camera\":\"\",\"caption\":\"\",\"created_timestamp\":\"0\",\"copyright\":\"\",\"focal_length\":\"0\",\"iso\":\"0\",\"shutter_speed\":\"0\",\"title\":\"\",\"orientation\":\"0\"}' data-image-title=\"code_example_4\" data-large-file=\"http://web.archive.org/web/20210415020310/https://hackaday.com/wp-content/uploads/2021/03/code_example_4.png?w=700\" data-medium-file=\"http://web.archive.org/web/20210415020310/https://hackaday.com/wp-content/uploads/2021/03/code_example_4.png?w=400\" data-orig-file=\"http://web.archive.org/web/20210415020310/https://hackaday.com/wp-content/uploads/2021/03/code_example_4.png\" data-orig-size=\"700,320\" data-permalink=\"http://web.archive.org/web/20210415020310/https://hackaday.com/2021/04/02/python-will-soon-support-switch-statements/code_example_4/\" height=\"320\" loading=\"lazy\" sizes=\"(max-width: 700px) 100vw, 700px\" src=\"http://web.archive.org/web/20210415020310im_/https://hackaday.com/wp-content/uploads/2021/03/code_example_4.png?w=700\" srcset=\"http://web.archive.org/web/20210415020310im_/https://hackaday.com/wp-content/uploads/2021/03/code_example_4.png 700w, http://web.archive.org/web/20210415020310im_/https://hackaday.com/wp-content/uploads/2021/03/code_example_4.png?resize=250,114 250w, http://web.archive.org/web/20210415020310im_/https://hackaday.com/wp-content/uploads/2021/03/code_example_4.png?resize=400,183 400w\" width=\"700\"/></p>\n",
      "<h2>Sold! When Can I Try?</h2>\n",
      "<p>We’ll get our hands on this magical new command in Python 3.10, slated for a full release on October 4th, 2021. For the adventurous, <a href=\"http://web.archive.org/web/20210415020310/https://www.python.org/downloads/release/python-3100a6/\" target=\"_blank\">an alpha version (Python 3.10.0a6) is available for download today</a>. It might be worth spending some time getting acquainted with the pattern matching, like understanding <a href=\"http://web.archive.org/web/20210415020310/https://stackoverflow.com/questions/66159432/match-statement-how-to-use-values-stored-in-variables\" target=\"_blank\">the difference between matching literal values and matching variables</a>.</p>\n",
      "<p>So why doesn’t every language have <code>match</code> statements? They’re clearly better than <code>switch</code> statements!<br/>\n",
      "That’s what I said at least, and my girlfriend Sara was quick to raise her eyebrows and explain that there’s a huge performance overhead involved. The <code>switch</code> statement in C is relatively simple. It compares integers to one another, executing <code>n</code> constant-time operations. All of the power and convenience that comes with the <code>match</code> statement means a lot is going on in the background, which in turn slows down the code execution — an incredibly Pythonic tradeoff to make.</p>\n",
      "<p>I find an efficiency hit a small price to pay for such expanded functionality, but as a Mechanical Engineer my favorite languages are Matlab and Python so you probably should take my opinion here with a grain of salt.</p>\n",
      "\t            </div><!-- .entry-content -->\n",
      "    <ul class=\"sharing\">\n",
      "    \t\t\t\t\t<li class=\"\">\n",
      "    \t\t\t\t<a class=\"facebook\" href=\"http://web.archive.org/web/20210415020310/https://www.facebook.com/sharer/sharer.php?u=https%3A%2F%2Fhackaday.com%2F2021%2F04%2F02%2Fpython-will-soon-support-switch-statements%2F\" target=\"_blank\">\n",
      "    \t\t\t\t\t<i class=\"socicon-facebook\"><img src=\"http://web.archive.org/web/20210415020310im_/https://hackaday.com/wp-content/themes/hackaday-2/img/share_face.png\"/> </i>\n",
      "    \t\t\t\t\t\t\t\t\t</a>\n",
      "    \t\t\t</li>\n",
      "    \t\t\t\t\t<li class=\"\">\n",
      "    \t\t\t\t<a class=\"twitter\" href=\"http://web.archive.org/web/20210415020310/https://twitter.com/intent/tweet?text=Python+Will+Soon+Support+Switch+Statements via @hackaday&amp;url=https%3A%2F%2Fhackaday.com%2F2021%2F04%2F02%2Fpython-will-soon-support-switch-statements%2F\" target=\"_blank\">\n",
      "    \t\t\t\t\t<i class=\"socicon-twitter\"><img src=\"http://web.archive.org/web/20210415020310im_/https://hackaday.com/wp-content/themes/hackaday-2/img/share_twitter.png\"/></i>\n",
      "    \t\t\t\t\t\t\t\t\t</a>\n",
      "    \t\t\t</li>\n",
      "    \t\t\t\t\t<li class=\"\">\n",
      "    \t\t\t\t<a class=\"linkedin\" href=\"http://web.archive.org/web/20210415020310/https://www.linkedin.com/shareArticle?url=https%3A%2F%2Fhackaday.com%2F2021%2F04%2F02%2Fpython-will-soon-support-switch-statements%2F\" target=\"_blank\">\n",
      "    \t\t\t\t\t<i class=\"socicon-linkedin\"><img src=\"http://web.archive.org/web/20210415020310im_/https://hackaday.com/wp-content/themes/hackaday-2/img/share_in.png\"/></i>\n",
      "    \t\t\t\t\t\t\t\t\t</a>\n",
      "    \t\t\t</li>\n",
      "    \t\t\t\t\t<li class=\"\">\n",
      "                <a class=\"mail\" href=\"http://web.archive.org/web/20210415020310/mailto:/?subject=Python+Will+Soon+Support+Switch+Statements | Hackaday&amp;body=https%3A%2F%2Fhackaday.com%2F2021%2F04%2F02%2Fpython-will-soon-support-switch-statements%2F\">\n",
      "    \t\t\t\t\t<i class=\"\"><img src=\"http://web.archive.org/web/20210415020310im_/https://hackaday.com/wp-content/themes/hackaday-2/img/share_mail1.png\"/></i>\n",
      "    \t\t\t\t\t\t\t\t\t</a>\n",
      "    \t\t\t</li>\n",
      "    \t\t\t</ul>\n",
      "    <footer class=\"entry-footer\">\n",
      "        <span class=\"cat-links\">Posted in <a href=\"http://web.archive.org/web/20210415020310/https://hackaday.com/category/featured/\" rel=\"category tag\">Featured</a>, <a href=\"http://web.archive.org/web/20210415020310/https://hackaday.com/category/news/\" rel=\"category tag\">News</a>, <a href=\"http://web.archive.org/web/20210415020310/https://hackaday.com/category/slider/\" rel=\"category tag\">Slider</a>, <a href=\"http://web.archive.org/web/20210415020310/https://hackaday.com/category/software-development/\" rel=\"category tag\">Software Development</a></span><span class=\"tags-links\">Tagged <a href=\"http://web.archive.org/web/20210415020310/https://hackaday.com/tag/match/\" rel=\"tag\">match</a>, <a href=\"http://web.archive.org/web/20210415020310/https://hackaday.com/tag/python/\" rel=\"tag\">python</a>, <a href=\"http://web.archive.org/web/20210415020310/https://hackaday.com/tag/switch/\" rel=\"tag\">switch</a></span><meta content=\"http://web.archive.org/web/20210415020310/https://hackaday.com/2021/04/02/python-will-soon-support-switch-statements/\" itemprop=\"url\"/>    </footer><!-- .entry-footer -->\n",
      "</article>\n"
     ]
    }
   ],
   "source": [
    "article_element = soup.find('article')\n",
    "# Uncomment to see the entire article element html; again, it's long\n",
    "print(article_element)"
   ]
  },
  {
   "cell_type": "markdown",
   "metadata": {},
   "source": [
    "If you print the article_content, you see that we get the html contained in the article element; while this is the content we want there's a lot of HTML cruft in there that won't help us (we are interested in text, probably).  Luckily for us, BeautifulSoup allows us to essentially display the text (roughly) as a web browser would display it using the `get_text()` method."
   ]
  },
  {
   "cell_type": "code",
   "execution_count": 12,
   "metadata": {},
   "outputs": [
    {
     "name": "stdout",
     "output_type": "stream",
     "text": [
      "\n",
      "    \n",
      "        Python Will Soon Support Switch Statements\n",
      "        \n",
      "            \n",
      "                112 Comments            \n",
      "            \n",
      "                by:\n",
      "                Adam Zeloof\n",
      "            \n",
      "        \n",
      "\n",
      "        \n",
      "            April 2, 2021\n",
      "            \n",
      "                \n",
      "                \n",
      "            \n",
      "        \n",
      "\n",
      "        \n",
      "    \n",
      "\n",
      "    \n",
      "        Rejoice! Gone are the long chains of if…else statements, because switch statements will soon be here — sort of. What the Python gods are actually giving us are match statements. match statements are awfully similar to switch statements, but have a few really cool and unique features, which I’ll attempt to illustrate below.\n",
      "\n",
      "Flip The Switch\n",
      "A switch statement is often used in place of an if…else ladder. Here’s a quick example of the same logic in C, first executed with an if statement, and then with a switch statement:\n",
      "\n",
      "Essentially, a switch statement takes a variable and tests it for equality against a number of different cases. If none of the cases match, then the default case is invoked. Notice in the example that each case is terminated by a break. This protects against more than one case matching (or allows for cascading), as the cases are checked in the order in which they are listed. Once a case is completed, break is called and the switch statement exits.\n",
      "A Match Made In Heaven\n",
      "\n",
      "You can think of match statements as “Switch 2.0”. Before we get into the nitty-gritty here, if all you want is switch in Python then you’re in luck, because they can be used in the same way. Here’s a similar example to what we looked at earlier, this time using match in Python.\n",
      "There are a few differences to note right off the bat. First, there are no break statements. The developers were concerned about confusion if a break statement were called inside a match statement inside a loop — what breaks then, the loop or the match? Here, the first case that is satisfied is executed, and the statement returns. You’ll also notice that rather than default, we have case _, which behaves in the same way.\n",
      "The Power of Pattern Matching\n",
      "So, we’ve got a switch statement with slightly different syntax, right? Not quite. The name match was used for a reason — what’s actually going on here is something called Pattern Matching. To illustrate what that is, let’s look at a more exciting example, right out of the feature proposal to add the keyword in question to Python:\n",
      "\n",
      "Wow! We just took an object, checked its type, checked it’s shape, and instantiated a new object without any indexing, or even a len() call. It also works on any type, unlike the classic switch which only works on integral values. In case this wasn’t cool enough for you, patterns can be combined. Again, from the feature proposal:\n",
      "\n",
      "Okay, okay — one more example. This is where the match statement gets really powerful. Patterns themselves can include comparisons, known as guards. This lets you filter values within each case statement:\n",
      "\n",
      "Sold! When Can I Try?\n",
      "We’ll get our hands on this magical new command in Python 3.10, slated for a full release on October 4th, 2021. For the adventurous, an alpha version (Python 3.10.0a6) is available for download today. It might be worth spending some time getting acquainted with the pattern matching, like understanding the difference between matching literal values and matching variables.\n",
      "So why doesn’t every language have match statements? They’re clearly better than switch statements!\n",
      "That’s what I said at least, and my girlfriend Sara was quick to raise her eyebrows and explain that there’s a huge performance overhead involved. The switch statement in C is relatively simple. It compares integers to one another, executing n constant-time operations. All of the power and convenience that comes with the match statement means a lot is going on in the background, which in turn slows down the code execution — an incredibly Pythonic tradeoff to make.\n",
      "I find an efficiency hit a small price to pay for such expanded functionality, but as a Mechanical Engineer my favorite languages are Matlab and Python so you probably should take my opinion here with a grain of salt.\n",
      "\t            \n",
      "    \n",
      "    \t\t\t\t\t\n",
      "    \t\t\t\t\n",
      "    \t\t\t\t\t \n",
      "    \t\t\t\t\t\t\t\t\t\n",
      "    \t\t\t\n",
      "    \t\t\t\t\t\n",
      "    \t\t\t\t\n",
      "    \t\t\t\t\t\n",
      "    \t\t\t\t\t\t\t\t\t\n",
      "    \t\t\t\n",
      "    \t\t\t\t\t\n",
      "    \t\t\t\t\n",
      "    \t\t\t\t\t\n",
      "    \t\t\t\t\t\t\t\t\t\n",
      "    \t\t\t\n",
      "    \t\t\t\t\t\n",
      "                \n",
      "    \t\t\t\t\t\n",
      "    \t\t\t\t\t\t\t\t\t\n",
      "    \t\t\t\n",
      "    \t\t\t\n",
      "    \n",
      "        Posted in Featured, News, Slider, Software DevelopmentTagged match, python, switch    \n",
      "\n"
     ]
    }
   ],
   "source": [
    "print(article_element.get_text())"
   ]
  },
  {
   "cell_type": "markdown",
   "metadata": {},
   "source": [
    "We have raw article text! Let the NLP begin! (also introducing/reintroducing [f strings](https://docs.python.org/3/tutorial/inputoutput.html#tut-f-strings)!"
   ]
  },
  {
   "cell_type": "code",
   "execution_count": 13,
   "metadata": {},
   "outputs": [
    {
     "ename": "AttributeError",
     "evalue": "[E046] Can't retrieve unregistered extension attribute 'polarity'. Did you forget to call the `set_extension` method?",
     "output_type": "error",
     "traceback": [
      "\u001b[31m---------------------------------------------------------------------------\u001b[39m",
      "\u001b[31mAttributeError\u001b[39m                            Traceback (most recent call last)",
      "\u001b[36mCell\u001b[39m\u001b[36m \u001b[39m\u001b[32mIn[13]\u001b[39m\u001b[32m, line 19\u001b[39m\n\u001b[32m     16\u001b[39m     doc = nlp(text)\n\u001b[32m     18\u001b[39m     \u001b[38;5;66;03m# 4. Now you can safely access the custom attributes.\u001b[39;00m\n\u001b[32m---> \u001b[39m\u001b[32m19\u001b[39m     \u001b[38;5;28mprint\u001b[39m(\u001b[33mf\u001b[39m\u001b[33m'\u001b[39m\u001b[33mPolarity: \u001b[39m\u001b[38;5;132;01m{\u001b[39;00m\u001b[43mdoc\u001b[49m\u001b[43m.\u001b[49m\u001b[43m_\u001b[49m\u001b[43m.\u001b[49m\u001b[43mpolarity\u001b[49m\u001b[38;5;132;01m}\u001b[39;00m\u001b[33m'\u001b[39m)\n\u001b[32m     20\u001b[39m     \u001b[38;5;28mprint\u001b[39m(\u001b[33mf\u001b[39m\u001b[33m'\u001b[39m\u001b[33mSubjectivity: \u001b[39m\u001b[38;5;132;01m{\u001b[39;00mdoc._.subjectivity\u001b[38;5;132;01m}\u001b[39;00m\u001b[33m'\u001b[39m)\n\u001b[32m     21\u001b[39m \u001b[38;5;28;01melse\u001b[39;00m:\n",
      "\u001b[36mFile \u001b[39m\u001b[32mc:\\Projects\\MS_Data_Analytics\\Web_Mining_Applied_NLP\\620-mod6-web-scraping\\.venv\\Lib\\site-packages\\spacy\\tokens\\underscore.py:48\u001b[39m, in \u001b[36mUnderscore.__getattr__\u001b[39m\u001b[34m(self, name)\u001b[39m\n\u001b[32m     46\u001b[39m \u001b[38;5;28;01mdef\u001b[39;00m\u001b[38;5;250m \u001b[39m\u001b[34m__getattr__\u001b[39m(\u001b[38;5;28mself\u001b[39m, name: \u001b[38;5;28mstr\u001b[39m) -> Any:\n\u001b[32m     47\u001b[39m     \u001b[38;5;28;01mif\u001b[39;00m name \u001b[38;5;129;01mnot\u001b[39;00m \u001b[38;5;129;01min\u001b[39;00m \u001b[38;5;28mself\u001b[39m._extensions:\n\u001b[32m---> \u001b[39m\u001b[32m48\u001b[39m         \u001b[38;5;28;01mraise\u001b[39;00m \u001b[38;5;167;01mAttributeError\u001b[39;00m(Errors.E046.format(name=name))\n\u001b[32m     49\u001b[39m     default, method, getter, setter = \u001b[38;5;28mself\u001b[39m._extensions[name]\n\u001b[32m     50\u001b[39m     \u001b[38;5;28;01mif\u001b[39;00m getter \u001b[38;5;129;01mis\u001b[39;00m \u001b[38;5;129;01mnot\u001b[39;00m \u001b[38;5;28;01mNone\u001b[39;00m:\n",
      "\u001b[31mAttributeError\u001b[39m: [E046] Can't retrieve unregistered extension attribute 'polarity'. Did you forget to call the `set_extension` method?"
     ]
    }
   ],
   "source": [
    "import spacy\n",
    "from spacytextblob.spacytextblob import SpacyTextBlob\n",
    "\n",
    "nlp = spacy.load('en_core_web_sm')\n",
    "# why not, let's add some fun sentiment analysis, because we can\n",
    "if 'spacytextblob' not in nlp.pipe_names:\n",
    "    nlp.add_pipe('spacytextblob', last=True)\n",
    "\n",
    "    \n",
    "# doc = nlp(article_element.get_text())\n",
    "# print(f'Polarity: {doc._.polarity}')\n",
    "if article_element:\n",
    "    text = article_element.get_text()\n",
    "\n",
    "    # 3. Process the text. The 'spacytextblob' component will now run.\n",
    "    doc = nlp(text)\n",
    "\n",
    "    # 4. Now you can safely access the custom attributes.\n",
    "    print(f'Polarity: {doc._.polarity}')\n",
    "    print(f'Subjectivity: {doc._.subjectivity}')\n",
    "else:\n",
    "    print(\"Article element not found, skipping sentiment analysis.\")"
   ]
  },
  {
   "cell_type": "markdown",
   "metadata": {},
   "source": [
    "So does the article have an overall positive overtone? What polarity scores indicate positive tone? What scores indicate negative? Is -0.5 more negative than -0.2?\n",
    "\n",
    "I'm actually pretty excited about match statements in Python, but I'm a nerd, so... you know.  What else can we do?\n",
    "\n",
    "## NLP: Finding important terms and introducing \"stopwords\"\n",
    "\n",
    "Our `doc` object contains information about every single lexeme in the text we had it parse.  Let's look at what these are:"
   ]
  },
  {
   "cell_type": "code",
   "execution_count": null,
   "metadata": {},
   "outputs": [],
   "source": [
    "for lexeme in doc[:10]: # just the first 10 for now\n",
    "    print('---',lexeme)"
   ]
  },
  {
   "cell_type": "markdown",
   "metadata": {},
   "source": [
    "We can see that the large blocks of whitespace are considered tokens; that's not something we particularly care about.  Let's start by going through our document and only getting tokens that aren't whitespace (I'll do this one as a loop constructing the list).  Notice; each lexeme in the document has a flag for whether it is whitespace or not!"
   ]
  },
  {
   "cell_type": "code",
   "execution_count": null,
   "metadata": {},
   "outputs": [],
   "source": [
    "non_ws_tokens = []\n",
    "for token in doc:\n",
    "    if not token.is_space:\n",
    "        non_ws_tokens.append(token)\n",
    "print(non_ws_tokens)"
   ]
  },
  {
   "cell_type": "markdown",
   "metadata": {},
   "source": [
    "It appears that punctuation is also its own token, so let's get rid of it.  At this point it starts to make sense to define a function to determine if we care about a particular token.  Let's build our list with a comprehension this time."
   ]
  },
  {
   "cell_type": "code",
   "execution_count": null,
   "metadata": {},
   "outputs": [],
   "source": [
    "def we_care_about(token):\n",
    "    return not (token.is_space or token.is_punct)\n",
    "\n",
    "interesting_tokens = [token for token in doc if we_care_about(token)]\n",
    "print(interesting_tokens)"
   ]
  },
  {
   "cell_type": "markdown",
   "metadata": {},
   "source": [
    "Let's determine the most frequent terms; that's an interesting way to determine the most important parts of a body of text.  Note the use of the Counter collection data structure; it's essentially a superpowered dictionary.  Note that because tokens have context, they won't be the same objects (everything will have a frequency of 1) so we turn all of them into strings using the `map` function."
   ]
  },
  {
   "cell_type": "code",
   "execution_count": null,
   "metadata": {},
   "outputs": [],
   "source": [
    "from collections import Counter\n",
    "word_freq = Counter(map(str,interesting_tokens))\n",
    "print(word_freq.most_common(10))"
   ]
  },
  {
   "cell_type": "markdown",
   "metadata": {},
   "source": [
    "Hrm; most of the top 10 most common words are not particularly interesting.  The words \"the\", \"a\", etc. do little to add to the meaning of a sentence but they do help with human comprehension.  We call such words \"stopwords\".  Let's modify our code so we exclude stopwords in our count."
   ]
  },
  {
   "cell_type": "code",
   "execution_count": null,
   "metadata": {},
   "outputs": [],
   "source": [
    "def we_care_about(token):\n",
    "    return not (token.is_space or token.is_punct or token.is_stop)\n",
    "\n",
    "interesting_tokens = [token for token in doc if we_care_about(token)]\n",
    "word_freq = Counter(map(str,interesting_tokens))\n",
    "print(word_freq.most_common(10))"
   ]
  },
  {
   "cell_type": "markdown",
   "metadata": {},
   "source": [
    "Now, we suddenly see that the most common terms in an article about Python supporting switch statements now contains the terms \"statement\", \"statements\", \"Python\", \"Switch\", and \"match\".  You might notice that there are a few issues with this.\n",
    "\n",
    "* \"Switch\" and \"switch\" are both included; we could fix this by converting every string to lower\n",
    "* \"statement\" and \"statements\", as well as \"match\" and \"matching\" are counted as different terms, even though they have the same base.\n",
    "\n",
    "The second problem is harder to solve, or it would be if we weren't using such a powerful library. As you learned in your initial exploration of spaCy, part of the pipeline is Lemmatization.  This is the process of finding the base form of each word.  Let's see what happens when we use the base form of each word instead of the token itself:"
   ]
  },
  {
   "cell_type": "code",
   "execution_count": null,
   "metadata": {},
   "outputs": [],
   "source": [
    "interesting_lemmas = [token.lemma_ for token in doc if we_care_about(token)]\n",
    "lemma_freq = Counter(interesting_lemmas)\n",
    "print(lemma_freq.most_common(10))"
   ]
  },
  {
   "cell_type": "markdown",
   "metadata": {},
   "source": [
    "We still run into case sensitivity, but we can fix that by converting the string to lower case:"
   ]
  },
  {
   "cell_type": "code",
   "execution_count": null,
   "metadata": {},
   "outputs": [],
   "source": [
    "interesting_lemmas = [token.lemma_.lower() for token in doc if we_care_about(token)]\n",
    "lemma_freq = Counter(interesting_lemmas)\n",
    "print(lemma_freq.most_common(10))"
   ]
  },
  {
   "cell_type": "markdown",
   "metadata": {},
   "source": [
    "Cool!  Let's store the 5 most common words in a set and try some experiments"
   ]
  },
  {
   "cell_type": "code",
   "execution_count": null,
   "metadata": {},
   "outputs": [],
   "source": [
    "cool_words = set()\n",
    "for lemma, freq in lemma_freq.most_common(5):\n",
    "    cool_words.add(lemma)\n",
    "print(cool_words)"
   ]
  },
  {
   "cell_type": "markdown",
   "metadata": {},
   "source": [
    "As an experiment, let's see how many words in each sentence are important (or \"cool\" as I've named the set)"
   ]
  },
  {
   "cell_type": "code",
   "execution_count": null,
   "metadata": {},
   "outputs": [],
   "source": [
    "sentences = list(doc.sents) # Thanks spaCy for just giving us our sentences\n",
    "for sentence in sentences:\n",
    "    count = 0\n",
    "    for token in sentence:\n",
    "        if token.lemma_.lower() in cool_words:\n",
    "            count += 1\n",
    "    # because there's a bunch of junk newlines, we'll replace those with nothing, as well as a little bit of whitespace\n",
    "    sent_str = str(sentence).replace('\\n','').replace('  ',' ')\n",
    "    print(count,':', sent_str)"
   ]
  },
  {
   "cell_type": "markdown",
   "metadata": {},
   "source": [
    "### Bonus: How many words in a sentence?\n",
    "\n",
    "When counting words, it's probably best to avoid whitespace or punctuation"
   ]
  },
  {
   "cell_type": "code",
   "execution_count": null,
   "metadata": {},
   "outputs": [],
   "source": [
    "def sentence_length (sent):\n",
    "    count = 0\n",
    "    for token in sent:\n",
    "        if not(token.is_space or token.is_punct):\n",
    "            count += 1\n",
    "    return count\n",
    "print(sentence_length(sentences[0]), sentences[0])"
   ]
  }
 ],
 "metadata": {
  "kernelspec": {
   "display_name": ".venv",
   "language": "python",
   "name": "python3"
  },
  "language_info": {
   "codemirror_mode": {
    "name": "ipython",
    "version": 3
   },
   "file_extension": ".py",
   "mimetype": "text/x-python",
   "name": "python",
   "nbconvert_exporter": "python",
   "pygments_lexer": "ipython3",
   "version": "3.12.7"
  }
 },
 "nbformat": 4,
 "nbformat_minor": 4
}
